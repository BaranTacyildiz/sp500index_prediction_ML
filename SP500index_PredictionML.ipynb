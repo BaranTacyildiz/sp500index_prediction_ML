{
 "cells": [
  {
   "cell_type": "code",
   "execution_count": 58,
   "metadata": {},
   "outputs": [],
   "source": [
    "import yfinance as yf"
   ]
  },
  {
   "cell_type": "code",
   "execution_count": 59,
   "metadata": {},
   "outputs": [],
   "source": [
    "sp500 = yf.Ticker(\"^GSPC\") \n",
    "# We got the data of SP500 Index "
   ]
  },
  {
   "cell_type": "code",
   "execution_count": 60,
   "metadata": {},
   "outputs": [],
   "source": [
    "sp500 = sp500.history(period=\"max\")\n",
    "start_date = \"2000-01-01\"\n",
    "end_date = \"2024-03-28\"\n",
    "sp500 = sp500[(sp500.index >= start_date) & (sp500.index <= end_date)]\n",
    "\n",
    "# We'll use data since 2000.01.01"
   ]
  },
  {
   "cell_type": "code",
   "execution_count": 61,
   "metadata": {},
   "outputs": [
    {
     "data": {
      "text/html": [
       "<div>\n",
       "<style scoped>\n",
       "    .dataframe tbody tr th:only-of-type {\n",
       "        vertical-align: middle;\n",
       "    }\n",
       "\n",
       "    .dataframe tbody tr th {\n",
       "        vertical-align: top;\n",
       "    }\n",
       "\n",
       "    .dataframe thead th {\n",
       "        text-align: right;\n",
       "    }\n",
       "</style>\n",
       "<table border=\"1\" class=\"dataframe\">\n",
       "  <thead>\n",
       "    <tr style=\"text-align: right;\">\n",
       "      <th></th>\n",
       "      <th>Open</th>\n",
       "      <th>High</th>\n",
       "      <th>Low</th>\n",
       "      <th>Close</th>\n",
       "      <th>Volume</th>\n",
       "      <th>Dividends</th>\n",
       "      <th>Stock Splits</th>\n",
       "    </tr>\n",
       "    <tr>\n",
       "      <th>Date</th>\n",
       "      <th></th>\n",
       "      <th></th>\n",
       "      <th></th>\n",
       "      <th></th>\n",
       "      <th></th>\n",
       "      <th></th>\n",
       "      <th></th>\n",
       "    </tr>\n",
       "  </thead>\n",
       "  <tbody>\n",
       "    <tr>\n",
       "      <th>2000-01-03 00:00:00-05:00</th>\n",
       "      <td>1469.250000</td>\n",
       "      <td>1478.000000</td>\n",
       "      <td>1438.359985</td>\n",
       "      <td>1455.219971</td>\n",
       "      <td>931800000</td>\n",
       "      <td>0.0</td>\n",
       "      <td>0.0</td>\n",
       "    </tr>\n",
       "    <tr>\n",
       "      <th>2000-01-04 00:00:00-05:00</th>\n",
       "      <td>1455.219971</td>\n",
       "      <td>1455.219971</td>\n",
       "      <td>1397.430054</td>\n",
       "      <td>1399.420044</td>\n",
       "      <td>1009000000</td>\n",
       "      <td>0.0</td>\n",
       "      <td>0.0</td>\n",
       "    </tr>\n",
       "    <tr>\n",
       "      <th>2000-01-05 00:00:00-05:00</th>\n",
       "      <td>1399.420044</td>\n",
       "      <td>1413.270020</td>\n",
       "      <td>1377.680054</td>\n",
       "      <td>1402.109985</td>\n",
       "      <td>1085500000</td>\n",
       "      <td>0.0</td>\n",
       "      <td>0.0</td>\n",
       "    </tr>\n",
       "    <tr>\n",
       "      <th>2000-01-06 00:00:00-05:00</th>\n",
       "      <td>1402.109985</td>\n",
       "      <td>1411.900024</td>\n",
       "      <td>1392.099976</td>\n",
       "      <td>1403.449951</td>\n",
       "      <td>1092300000</td>\n",
       "      <td>0.0</td>\n",
       "      <td>0.0</td>\n",
       "    </tr>\n",
       "    <tr>\n",
       "      <th>2000-01-07 00:00:00-05:00</th>\n",
       "      <td>1403.449951</td>\n",
       "      <td>1441.469971</td>\n",
       "      <td>1400.729980</td>\n",
       "      <td>1441.469971</td>\n",
       "      <td>1225200000</td>\n",
       "      <td>0.0</td>\n",
       "      <td>0.0</td>\n",
       "    </tr>\n",
       "    <tr>\n",
       "      <th>...</th>\n",
       "      <td>...</td>\n",
       "      <td>...</td>\n",
       "      <td>...</td>\n",
       "      <td>...</td>\n",
       "      <td>...</td>\n",
       "      <td>...</td>\n",
       "      <td>...</td>\n",
       "    </tr>\n",
       "    <tr>\n",
       "      <th>2024-03-22 00:00:00-04:00</th>\n",
       "      <td>5242.479980</td>\n",
       "      <td>5246.089844</td>\n",
       "      <td>5229.870117</td>\n",
       "      <td>5234.180176</td>\n",
       "      <td>3374700000</td>\n",
       "      <td>0.0</td>\n",
       "      <td>0.0</td>\n",
       "    </tr>\n",
       "    <tr>\n",
       "      <th>2024-03-25 00:00:00-04:00</th>\n",
       "      <td>5219.520020</td>\n",
       "      <td>5229.089844</td>\n",
       "      <td>5216.089844</td>\n",
       "      <td>5218.189941</td>\n",
       "      <td>3331360000</td>\n",
       "      <td>0.0</td>\n",
       "      <td>0.0</td>\n",
       "    </tr>\n",
       "    <tr>\n",
       "      <th>2024-03-26 00:00:00-04:00</th>\n",
       "      <td>5228.850098</td>\n",
       "      <td>5235.160156</td>\n",
       "      <td>5203.419922</td>\n",
       "      <td>5203.580078</td>\n",
       "      <td>3871790000</td>\n",
       "      <td>0.0</td>\n",
       "      <td>0.0</td>\n",
       "    </tr>\n",
       "    <tr>\n",
       "      <th>2024-03-27 00:00:00-04:00</th>\n",
       "      <td>5226.310059</td>\n",
       "      <td>5249.259766</td>\n",
       "      <td>5213.919922</td>\n",
       "      <td>5248.490234</td>\n",
       "      <td>3850500000</td>\n",
       "      <td>0.0</td>\n",
       "      <td>0.0</td>\n",
       "    </tr>\n",
       "    <tr>\n",
       "      <th>2024-03-28 00:00:00-04:00</th>\n",
       "      <td>5248.029785</td>\n",
       "      <td>5256.049805</td>\n",
       "      <td>5245.819824</td>\n",
       "      <td>5252.779785</td>\n",
       "      <td>758203359</td>\n",
       "      <td>0.0</td>\n",
       "      <td>0.0</td>\n",
       "    </tr>\n",
       "  </tbody>\n",
       "</table>\n",
       "<p>6098 rows × 7 columns</p>\n",
       "</div>"
      ],
      "text/plain": [
       "                                  Open         High          Low        Close  \\\n",
       "Date                                                                            \n",
       "2000-01-03 00:00:00-05:00  1469.250000  1478.000000  1438.359985  1455.219971   \n",
       "2000-01-04 00:00:00-05:00  1455.219971  1455.219971  1397.430054  1399.420044   \n",
       "2000-01-05 00:00:00-05:00  1399.420044  1413.270020  1377.680054  1402.109985   \n",
       "2000-01-06 00:00:00-05:00  1402.109985  1411.900024  1392.099976  1403.449951   \n",
       "2000-01-07 00:00:00-05:00  1403.449951  1441.469971  1400.729980  1441.469971   \n",
       "...                                ...          ...          ...          ...   \n",
       "2024-03-22 00:00:00-04:00  5242.479980  5246.089844  5229.870117  5234.180176   \n",
       "2024-03-25 00:00:00-04:00  5219.520020  5229.089844  5216.089844  5218.189941   \n",
       "2024-03-26 00:00:00-04:00  5228.850098  5235.160156  5203.419922  5203.580078   \n",
       "2024-03-27 00:00:00-04:00  5226.310059  5249.259766  5213.919922  5248.490234   \n",
       "2024-03-28 00:00:00-04:00  5248.029785  5256.049805  5245.819824  5252.779785   \n",
       "\n",
       "                               Volume  Dividends  Stock Splits  \n",
       "Date                                                            \n",
       "2000-01-03 00:00:00-05:00   931800000        0.0           0.0  \n",
       "2000-01-04 00:00:00-05:00  1009000000        0.0           0.0  \n",
       "2000-01-05 00:00:00-05:00  1085500000        0.0           0.0  \n",
       "2000-01-06 00:00:00-05:00  1092300000        0.0           0.0  \n",
       "2000-01-07 00:00:00-05:00  1225200000        0.0           0.0  \n",
       "...                               ...        ...           ...  \n",
       "2024-03-22 00:00:00-04:00  3374700000        0.0           0.0  \n",
       "2024-03-25 00:00:00-04:00  3331360000        0.0           0.0  \n",
       "2024-03-26 00:00:00-04:00  3871790000        0.0           0.0  \n",
       "2024-03-27 00:00:00-04:00  3850500000        0.0           0.0  \n",
       "2024-03-28 00:00:00-04:00   758203359        0.0           0.0  \n",
       "\n",
       "[6098 rows x 7 columns]"
      ]
     },
     "execution_count": 61,
     "metadata": {},
     "output_type": "execute_result"
    }
   ],
   "source": [
    "sp500"
   ]
  },
  {
   "cell_type": "code",
   "execution_count": 62,
   "metadata": {},
   "outputs": [
    {
     "data": {
      "text/plain": [
       "DatetimeIndex(['2000-01-03 00:00:00-05:00', '2000-01-04 00:00:00-05:00',\n",
       "               '2000-01-05 00:00:00-05:00', '2000-01-06 00:00:00-05:00',\n",
       "               '2000-01-07 00:00:00-05:00', '2000-01-10 00:00:00-05:00',\n",
       "               '2000-01-11 00:00:00-05:00', '2000-01-12 00:00:00-05:00',\n",
       "               '2000-01-13 00:00:00-05:00', '2000-01-14 00:00:00-05:00',\n",
       "               ...\n",
       "               '2024-03-15 00:00:00-04:00', '2024-03-18 00:00:00-04:00',\n",
       "               '2024-03-19 00:00:00-04:00', '2024-03-20 00:00:00-04:00',\n",
       "               '2024-03-21 00:00:00-04:00', '2024-03-22 00:00:00-04:00',\n",
       "               '2024-03-25 00:00:00-04:00', '2024-03-26 00:00:00-04:00',\n",
       "               '2024-03-27 00:00:00-04:00', '2024-03-28 00:00:00-04:00'],\n",
       "              dtype='datetime64[ns, America/New_York]', name='Date', length=6098, freq=None)"
      ]
     },
     "execution_count": 62,
     "metadata": {},
     "output_type": "execute_result"
    }
   ],
   "source": [
    "sp500.index"
   ]
  },
  {
   "cell_type": "code",
   "execution_count": 63,
   "metadata": {},
   "outputs": [
    {
     "data": {
      "text/plain": [
       "<Axes: xlabel='Date'>"
      ]
     },
     "execution_count": 63,
     "metadata": {},
     "output_type": "execute_result"
    },
    {
     "data": {
      "image/png": "[encoded data removed]",
      "text/plain": [
       "<Figure size 640x480 with 1 Axes>"
      ]
     },
     "metadata": {},
     "output_type": "display_data"
    }
   ],
   "source": [
    "sp500.plot(kind=\"line\",y=\"Close\",use_index=True)"
   ]
  },
  {
   "cell_type": "code",
   "execution_count": 64,
   "metadata": {},
   "outputs": [],
   "source": [
    "del sp500[\"Dividends\"]\n",
    "del sp500[\"Stock Splits\"]"
   ]
  },
  {
   "cell_type": "code",
   "execution_count": 71,
   "metadata": {},
   "outputs": [
    {
     "data": {
      "text/html": [
       "<div>\n",
       "<style scoped>\n",
       "    .dataframe tbody tr th:only-of-type {\n",
       "        vertical-align: middle;\n",
       "    }\n",
       "\n",
       "    .dataframe tbody tr th {\n",
       "        vertical-align: top;\n",
       "    }\n",
       "\n",
       "    .dataframe thead th {\n",
       "        text-align: right;\n",
       "    }\n",
       "</style>\n",
       "<table border=\"1\" class=\"dataframe\">\n",
       "  <thead>\n",
       "    <tr style=\"text-align: right;\">\n",
       "      <th></th>\n",
       "      <th>Open</th>\n",
       "      <th>High</th>\n",
       "      <th>Low</th>\n",
       "      <th>Close</th>\n",
       "      <th>Volume</th>\n",
       "      <th>Tomorrow</th>\n",
       "      <th>Target</th>\n",
       "    </tr>\n",
       "    <tr>\n",
       "      <th>Date</th>\n",
       "      <th></th>\n",
       "      <th></th>\n",
       "      <th></th>\n",
       "      <th></th>\n",
       "      <th></th>\n",
       "      <th></th>\n",
       "      <th></th>\n",
       "    </tr>\n",
       "  </thead>\n",
       "  <tbody>\n",
       "    <tr>\n",
       "      <th>2000-01-03 00:00:00-05:00</th>\n",
       "      <td>1469.250000</td>\n",
       "      <td>1478.000000</td>\n",
       "      <td>1438.359985</td>\n",
       "      <td>1455.219971</td>\n",
       "      <td>931800000</td>\n",
       "      <td>1399.420044</td>\n",
       "      <td>0</td>\n",
       "    </tr>\n",
       "    <tr>\n",
       "      <th>2000-01-04 00:00:00-05:00</th>\n",
       "      <td>1455.219971</td>\n",
       "      <td>1455.219971</td>\n",
       "      <td>1397.430054</td>\n",
       "      <td>1399.420044</td>\n",
       "      <td>1009000000</td>\n",
       "      <td>1402.109985</td>\n",
       "      <td>1</td>\n",
       "    </tr>\n",
       "    <tr>\n",
       "      <th>2000-01-05 00:00:00-05:00</th>\n",
       "      <td>1399.420044</td>\n",
       "      <td>1413.270020</td>\n",
       "      <td>1377.680054</td>\n",
       "      <td>1402.109985</td>\n",
       "      <td>1085500000</td>\n",
       "      <td>1403.449951</td>\n",
       "      <td>1</td>\n",
       "    </tr>\n",
       "    <tr>\n",
       "      <th>2000-01-06 00:00:00-05:00</th>\n",
       "      <td>1402.109985</td>\n",
       "      <td>1411.900024</td>\n",
       "      <td>1392.099976</td>\n",
       "      <td>1403.449951</td>\n",
       "      <td>1092300000</td>\n",
       "      <td>1441.469971</td>\n",
       "      <td>1</td>\n",
       "    </tr>\n",
       "    <tr>\n",
       "      <th>2000-01-07 00:00:00-05:00</th>\n",
       "      <td>1403.449951</td>\n",
       "      <td>1441.469971</td>\n",
       "      <td>1400.729980</td>\n",
       "      <td>1441.469971</td>\n",
       "      <td>1225200000</td>\n",
       "      <td>1457.599976</td>\n",
       "      <td>1</td>\n",
       "    </tr>\n",
       "    <tr>\n",
       "      <th>...</th>\n",
       "      <td>...</td>\n",
       "      <td>...</td>\n",
       "      <td>...</td>\n",
       "      <td>...</td>\n",
       "      <td>...</td>\n",
       "      <td>...</td>\n",
       "      <td>...</td>\n",
       "    </tr>\n",
       "    <tr>\n",
       "      <th>2024-03-22 00:00:00-04:00</th>\n",
       "      <td>5242.479980</td>\n",
       "      <td>5246.089844</td>\n",
       "      <td>5229.870117</td>\n",
       "      <td>5234.180176</td>\n",
       "      <td>3374700000</td>\n",
       "      <td>5218.189941</td>\n",
       "      <td>0</td>\n",
       "    </tr>\n",
       "    <tr>\n",
       "      <th>2024-03-25 00:00:00-04:00</th>\n",
       "      <td>5219.520020</td>\n",
       "      <td>5229.089844</td>\n",
       "      <td>5216.089844</td>\n",
       "      <td>5218.189941</td>\n",
       "      <td>3331360000</td>\n",
       "      <td>5203.580078</td>\n",
       "      <td>0</td>\n",
       "    </tr>\n",
       "    <tr>\n",
       "      <th>2024-03-26 00:00:00-04:00</th>\n",
       "      <td>5228.850098</td>\n",
       "      <td>5235.160156</td>\n",
       "      <td>5203.419922</td>\n",
       "      <td>5203.580078</td>\n",
       "      <td>3871790000</td>\n",
       "      <td>5248.490234</td>\n",
       "      <td>1</td>\n",
       "    </tr>\n",
       "    <tr>\n",
       "      <th>2024-03-27 00:00:00-04:00</th>\n",
       "      <td>5226.310059</td>\n",
       "      <td>5249.259766</td>\n",
       "      <td>5213.919922</td>\n",
       "      <td>5248.490234</td>\n",
       "      <td>3850500000</td>\n",
       "      <td>5252.779785</td>\n",
       "      <td>1</td>\n",
       "    </tr>\n",
       "    <tr>\n",
       "      <th>2024-03-28 00:00:00-04:00</th>\n",
       "      <td>5248.029785</td>\n",
       "      <td>5256.049805</td>\n",
       "      <td>5245.819824</td>\n",
       "      <td>5252.779785</td>\n",
       "      <td>758203359</td>\n",
       "      <td>NaN</td>\n",
       "      <td>0</td>\n",
       "    </tr>\n",
       "  </tbody>\n",
       "</table>\n",
       "<p>6098 rows × 7 columns</p>\n",
       "</div>"
      ],
      "text/plain": [
       "                                  Open         High          Low        Close  \\\n",
       "Date                                                                            \n",
       "2000-01-03 00:00:00-05:00  1469.250000  1478.000000  1438.359985  1455.219971   \n",
       "2000-01-04 00:00:00-05:00  1455.219971  1455.219971  1397.430054  1399.420044   \n",
       "2000-01-05 00:00:00-05:00  1399.420044  1413.270020  1377.680054  1402.109985   \n",
       "2000-01-06 00:00:00-05:00  1402.109985  1411.900024  1392.099976  1403.449951   \n",
       "2000-01-07 00:00:00-05:00  1403.449951  1441.469971  1400.729980  1441.469971   \n",
       "...                                ...          ...          ...          ...   \n",
       "2024-03-22 00:00:00-04:00  5242.479980  5246.089844  5229.870117  5234.180176   \n",
       "2024-03-25 00:00:00-04:00  5219.520020  5229.089844  5216.089844  5218.189941   \n",
       "2024-03-26 00:00:00-04:00  5228.850098  5235.160156  5203.419922  5203.580078   \n",
       "2024-03-27 00:00:00-04:00  5226.310059  5249.259766  5213.919922  5248.490234   \n",
       "2024-03-28 00:00:00-04:00  5248.029785  5256.049805  5245.819824  5252.779785   \n",
       "\n",
       "                               Volume     Tomorrow  Target  \n",
       "Date                                                        \n",
       "2000-01-03 00:00:00-05:00   931800000  1399.420044       0  \n",
       "2000-01-04 00:00:00-05:00  1009000000  1402.109985       1  \n",
       "2000-01-05 00:00:00-05:00  1085500000  1403.449951       1  \n",
       "2000-01-06 00:00:00-05:00  1092300000  1441.469971       1  \n",
       "2000-01-07 00:00:00-05:00  1225200000  1457.599976       1  \n",
       "...                               ...          ...     ...  \n",
       "2024-03-22 00:00:00-04:00  3374700000  5218.189941       0  \n",
       "2024-03-25 00:00:00-04:00  3331360000  5203.580078       0  \n",
       "2024-03-26 00:00:00-04:00  3871790000  5248.490234       1  \n",
       "2024-03-27 00:00:00-04:00  3850500000  5252.779785       1  \n",
       "2024-03-28 00:00:00-04:00   758203359          NaN       0  \n",
       "\n",
       "[6098 rows x 7 columns]"
      ]
     },
     "execution_count": 71,
     "metadata": {},
     "output_type": "execute_result"
    }
   ],
   "source": [
    "sp500[\"Tomorrow\"] = sp500[\"Close\"].shift(-1)\n",
    "sp500"
   ]
  },
  {
   "cell_type": "code",
   "execution_count": 72,
   "metadata": {},
   "outputs": [
    {
     "data": {
      "text/html": [
       "<div>\n",
       "<style scoped>\n",
       "    .dataframe tbody tr th:only-of-type {\n",
       "        vertical-align: middle;\n",
       "    }\n",
       "\n",
       "    .dataframe tbody tr th {\n",
       "        vertical-align: top;\n",
       "    }\n",
       "\n",
       "    .dataframe thead th {\n",
       "        text-align: right;\n",
       "    }\n",
       "</style>\n",
       "<table border=\"1\" class=\"dataframe\">\n",
       "  <thead>\n",
       "    <tr style=\"text-align: right;\">\n",
       "      <th></th>\n",
       "      <th>Open</th>\n",
       "      <th>High</th>\n",
       "      <th>Low</th>\n",
       "      <th>Close</th>\n",
       "      <th>Volume</th>\n",
       "      <th>Tomorrow</th>\n",
       "      <th>Target</th>\n",
       "    </tr>\n",
       "    <tr>\n",
       "      <th>Date</th>\n",
       "      <th></th>\n",
       "      <th></th>\n",
       "      <th></th>\n",
       "      <th></th>\n",
       "      <th></th>\n",
       "      <th></th>\n",
       "      <th></th>\n",
       "    </tr>\n",
       "  </thead>\n",
       "  <tbody>\n",
       "    <tr>\n",
       "      <th>2000-01-03 00:00:00-05:00</th>\n",
       "      <td>1469.250000</td>\n",
       "      <td>1478.000000</td>\n",
       "      <td>1438.359985</td>\n",
       "      <td>1455.219971</td>\n",
       "      <td>931800000</td>\n",
       "      <td>1399.420044</td>\n",
       "      <td>0</td>\n",
       "    </tr>\n",
       "    <tr>\n",
       "      <th>2000-01-04 00:00:00-05:00</th>\n",
       "      <td>1455.219971</td>\n",
       "      <td>1455.219971</td>\n",
       "      <td>1397.430054</td>\n",
       "      <td>1399.420044</td>\n",
       "      <td>1009000000</td>\n",
       "      <td>1402.109985</td>\n",
       "      <td>1</td>\n",
       "    </tr>\n",
       "    <tr>\n",
       "      <th>2000-01-05 00:00:00-05:00</th>\n",
       "      <td>1399.420044</td>\n",
       "      <td>1413.270020</td>\n",
       "      <td>1377.680054</td>\n",
       "      <td>1402.109985</td>\n",
       "      <td>1085500000</td>\n",
       "      <td>1403.449951</td>\n",
       "      <td>1</td>\n",
       "    </tr>\n",
       "    <tr>\n",
       "      <th>2000-01-06 00:00:00-05:00</th>\n",
       "      <td>1402.109985</td>\n",
       "      <td>1411.900024</td>\n",
       "      <td>1392.099976</td>\n",
       "      <td>1403.449951</td>\n",
       "      <td>1092300000</td>\n",
       "      <td>1441.469971</td>\n",
       "      <td>1</td>\n",
       "    </tr>\n",
       "    <tr>\n",
       "      <th>2000-01-07 00:00:00-05:00</th>\n",
       "      <td>1403.449951</td>\n",
       "      <td>1441.469971</td>\n",
       "      <td>1400.729980</td>\n",
       "      <td>1441.469971</td>\n",
       "      <td>1225200000</td>\n",
       "      <td>1457.599976</td>\n",
       "      <td>1</td>\n",
       "    </tr>\n",
       "    <tr>\n",
       "      <th>...</th>\n",
       "      <td>...</td>\n",
       "      <td>...</td>\n",
       "      <td>...</td>\n",
       "      <td>...</td>\n",
       "      <td>...</td>\n",
       "      <td>...</td>\n",
       "      <td>...</td>\n",
       "    </tr>\n",
       "    <tr>\n",
       "      <th>2024-03-22 00:00:00-04:00</th>\n",
       "      <td>5242.479980</td>\n",
       "      <td>5246.089844</td>\n",
       "      <td>5229.870117</td>\n",
       "      <td>5234.180176</td>\n",
       "      <td>3374700000</td>\n",
       "      <td>5218.189941</td>\n",
       "      <td>0</td>\n",
       "    </tr>\n",
       "    <tr>\n",
       "      <th>2024-03-25 00:00:00-04:00</th>\n",
       "      <td>5219.520020</td>\n",
       "      <td>5229.089844</td>\n",
       "      <td>5216.089844</td>\n",
       "      <td>5218.189941</td>\n",
       "      <td>3331360000</td>\n",
       "      <td>5203.580078</td>\n",
       "      <td>0</td>\n",
       "    </tr>\n",
       "    <tr>\n",
       "      <th>2024-03-26 00:00:00-04:00</th>\n",
       "      <td>5228.850098</td>\n",
       "      <td>5235.160156</td>\n",
       "      <td>5203.419922</td>\n",
       "      <td>5203.580078</td>\n",
       "      <td>3871790000</td>\n",
       "      <td>5248.490234</td>\n",
       "      <td>1</td>\n",
       "    </tr>\n",
       "    <tr>\n",
       "      <th>2024-03-27 00:00:00-04:00</th>\n",
       "      <td>5226.310059</td>\n",
       "      <td>5249.259766</td>\n",
       "      <td>5213.919922</td>\n",
       "      <td>5248.490234</td>\n",
       "      <td>3850500000</td>\n",
       "      <td>5252.779785</td>\n",
       "      <td>1</td>\n",
       "    </tr>\n",
       "    <tr>\n",
       "      <th>2024-03-28 00:00:00-04:00</th>\n",
       "      <td>5248.029785</td>\n",
       "      <td>5256.049805</td>\n",
       "      <td>5245.819824</td>\n",
       "      <td>5252.779785</td>\n",
       "      <td>758203359</td>\n",
       "      <td>NaN</td>\n",
       "      <td>0</td>\n",
       "    </tr>\n",
       "  </tbody>\n",
       "</table>\n",
       "<p>6098 rows × 7 columns</p>\n",
       "</div>"
      ],
      "text/plain": [
       "                                  Open         High          Low        Close  \\\n",
       "Date                                                                            \n",
       "2000-01-03 00:00:00-05:00  1469.250000  1478.000000  1438.359985  1455.219971   \n",
       "2000-01-04 00:00:00-05:00  1455.219971  1455.219971  1397.430054  1399.420044   \n",
       "2000-01-05 00:00:00-05:00  1399.420044  1413.270020  1377.680054  1402.109985   \n",
       "2000-01-06 00:00:00-05:00  1402.109985  1411.900024  1392.099976  1403.449951   \n",
       "2000-01-07 00:00:00-05:00  1403.449951  1441.469971  1400.729980  1441.469971   \n",
       "...                                ...          ...          ...          ...   \n",
       "2024-03-22 00:00:00-04:00  5242.479980  5246.089844  5229.870117  5234.180176   \n",
       "2024-03-25 00:00:00-04:00  5219.520020  5229.089844  5216.089844  5218.189941   \n",
       "2024-03-26 00:00:00-04:00  5228.850098  5235.160156  5203.419922  5203.580078   \n",
       "2024-03-27 00:00:00-04:00  5226.310059  5249.259766  5213.919922  5248.490234   \n",
       "2024-03-28 00:00:00-04:00  5248.029785  5256.049805  5245.819824  5252.779785   \n",
       "\n",
       "                               Volume     Tomorrow  Target  \n",
       "Date                                                        \n",
       "2000-01-03 00:00:00-05:00   931800000  1399.420044       0  \n",
       "2000-01-04 00:00:00-05:00  1009000000  1402.109985       1  \n",
       "2000-01-05 00:00:00-05:00  1085500000  1403.449951       1  \n",
       "2000-01-06 00:00:00-05:00  1092300000  1441.469971       1  \n",
       "2000-01-07 00:00:00-05:00  1225200000  1457.599976       1  \n",
       "...                               ...          ...     ...  \n",
       "2024-03-22 00:00:00-04:00  3374700000  5218.189941       0  \n",
       "2024-03-25 00:00:00-04:00  3331360000  5203.580078       0  \n",
       "2024-03-26 00:00:00-04:00  3871790000  5248.490234       1  \n",
       "2024-03-27 00:00:00-04:00  3850500000  5252.779785       1  \n",
       "2024-03-28 00:00:00-04:00   758203359          NaN       0  \n",
       "\n",
       "[6098 rows x 7 columns]"
      ]
     },
     "execution_count": 72,
     "metadata": {},
     "output_type": "execute_result"
    }
   ],
   "source": [
    "sp500[\"Target\"] = (sp500[\"Tomorrow\"] > sp500[\"Close\"]).astype(int)\n",
    "# Target 1 means the index increases, 0 means it decreases.\n",
    "sp500\n"
   ]
  },
  {
   "cell_type": "code",
   "execution_count": 80,
   "metadata": {},
   "outputs": [
    {
     "data": {
      "text/html": [
       "<style>#sk-container-id-2 {color: black;}#sk-container-id-2 pre{padding: 0;}#sk-container-id-2 div.sk-toggleable {background-color: white;}#sk-container-id-2 label.sk-toggleable__label {cursor: pointer;display: block;width: 100%;margin-bottom: 0;padding: 0.3em;box-sizing: border-box;text-align: center;}#sk-container-id-2 label.sk-toggleable__label-arrow:before {content: \"▸\";float: left;margin-right: 0.25em;color: #696969;}#sk-container-id-2 label.sk-toggleable__label-arrow:hover:before {color: black;}#sk-container-id-2 div.sk-estimator:hover label.sk-toggleable__label-arrow:before {color: black;}#sk-container-id-2 div.sk-toggleable__content {max-height: 0;max-width: 0;overflow: hidden;text-align: left;background-color: #f0f8ff;}#sk-container-id-2 div.sk-toggleable__content pre {margin: 0.2em;color: black;border-radius: 0.25em;background-color: #f0f8ff;}#sk-container-id-2 input.sk-toggleable__control:checked~div.sk-toggleable__content {max-height: 200px;max-width: 100%;overflow: auto;}#sk-container-id-2 input.sk-toggleable__control:checked~label.sk-toggleable__label-arrow:before {content: \"▾\";}#sk-container-id-2 div.sk-estimator input.sk-toggleable__control:checked~label.sk-toggleable__label {background-color: #d4ebff;}#sk-container-id-2 div.sk-label input.sk-toggleable__control:checked~label.sk-toggleable__label {background-color: #d4ebff;}#sk-container-id-2 input.sk-hidden--visually {border: 0;clip: rect(1px 1px 1px 1px);clip: rect(1px, 1px, 1px, 1px);height: 1px;margin: -1px;overflow: hidden;padding: 0;position: absolute;width: 1px;}#sk-container-id-2 div.sk-estimator {font-family: monospace;background-color: #f0f8ff;border: 1px dotted black;border-radius: 0.25em;box-sizing: border-box;margin-bottom: 0.5em;}#sk-container-id-2 div.sk-estimator:hover {background-color: #d4ebff;}#sk-container-id-2 div.sk-parallel-item::after {content: \"\";width: 100%;border-bottom: 1px solid gray;flex-grow: 1;}#sk-container-id-2 div.sk-label:hover label.sk-toggleable__label {background-color: #d4ebff;}#sk-container-id-2 div.sk-serial::before {content: \"\";position: absolute;border-left: 1px solid gray;box-sizing: border-box;top: 0;bottom: 0;left: 50%;z-index: 0;}#sk-container-id-2 div.sk-serial {display: flex;flex-direction: column;align-items: center;background-color: white;padding-right: 0.2em;padding-left: 0.2em;position: relative;}#sk-container-id-2 div.sk-item {position: relative;z-index: 1;}#sk-container-id-2 div.sk-parallel {display: flex;align-items: stretch;justify-content: center;background-color: white;position: relative;}#sk-container-id-2 div.sk-item::before, #sk-container-id-2 div.sk-parallel-item::before {content: \"\";position: absolute;border-left: 1px solid gray;box-sizing: border-box;top: 0;bottom: 0;left: 50%;z-index: -1;}#sk-container-id-2 div.sk-parallel-item {display: flex;flex-direction: column;z-index: 1;position: relative;background-color: white;}#sk-container-id-2 div.sk-parallel-item:first-child::after {align-self: flex-end;width: 50%;}#sk-container-id-2 div.sk-parallel-item:last-child::after {align-self: flex-start;width: 50%;}#sk-container-id-2 div.sk-parallel-item:only-child::after {width: 0;}#sk-container-id-2 div.sk-dashed-wrapped {border: 1px dashed gray;margin: 0 0.4em 0.5em 0.4em;box-sizing: border-box;padding-bottom: 0.4em;background-color: white;}#sk-container-id-2 div.sk-label label {font-family: monospace;font-weight: bold;display: inline-block;line-height: 1.2em;}#sk-container-id-2 div.sk-label-container {text-align: center;}#sk-container-id-2 div.sk-container {/* jupyter's `normalize.less` sets `[hidden] { display: none; }` but bootstrap.min.css set `[hidden] { display: none !important; }` so we also need the `!important` here to be able to override the default hidden behavior on the sphinx rendered scikit-learn.org. See: https://github.com/scikit-learn/scikit-learn/issues/21755 */display: inline-block !important;position: relative;}#sk-container-id-2 div.sk-text-repr-fallback {display: none;}</style><div id=\"sk-container-id-2\" class=\"sk-top-container\"><div class=\"sk-text-repr-fallback\"><pre>RandomForestClassifier(min_samples_split=100, random_state=1)</pre><b>In a Jupyter environment, please rerun this cell to show the HTML representation or trust the notebook. <br />On GitHub, the HTML representation is unable to render, please try loading this page with nbviewer.org.</b></div><div class=\"sk-container\" hidden><div class=\"sk-item\"><div class=\"sk-estimator sk-toggleable\"><input class=\"sk-toggleable__control sk-hidden--visually\" id=\"sk-estimator-id-2\" type=\"checkbox\" checked><label for=\"sk-estimator-id-2\" class=\"sk-toggleable__label sk-toggleable__label-arrow\">RandomForestClassifier</label><div class=\"sk-toggleable__content\"><pre>RandomForestClassifier(min_samples_split=100, random_state=1)</pre></div></div></div></div></div>"
      ],
      "text/plain": [
       "RandomForestClassifier(min_samples_split=100, random_state=1)"
      ]
     },
     "execution_count": 80,
     "metadata": {},
     "output_type": "execute_result"
    }
   ],
   "source": [
    "from sklearn.ensemble import RandomForestClassifier\n",
    "import pandas as pd\n",
    "\n",
    "model = RandomForestClassifier(n_estimators=100,min_samples_split=100,random_state=1)\n",
    "\n",
    "\n",
    "train = sp500.iloc[:-100]\n",
    "test = sp500.iloc[-100:]\n",
    "\n",
    "predictors = [\"Close\",\"Volume\",\"Open\",\"High\",\"Low\"]\n",
    "\n",
    "\n",
    "model.fit(train[predictors],train[\"Target\"])\n",
    "\n"
   ]
  },
  {
   "cell_type": "code",
   "execution_count": 81,
   "metadata": {},
   "outputs": [],
   "source": [
    "from sklearn.metrics import precision_score\n",
    "\n",
    "preds = model.predict(test[predictors])"
   ]
  },
  {
   "cell_type": "code",
   "execution_count": 83,
   "metadata": {},
   "outputs": [
    {
     "data": {
      "text/plain": [
       "Date\n",
       "2023-11-03 00:00:00-04:00    1\n",
       "2023-11-06 00:00:00-05:00    1\n",
       "2023-11-07 00:00:00-05:00    1\n",
       "2023-11-08 00:00:00-05:00    1\n",
       "2023-11-09 00:00:00-05:00    1\n",
       "                            ..\n",
       "2024-03-22 00:00:00-04:00    0\n",
       "2024-03-25 00:00:00-04:00    0\n",
       "2024-03-26 00:00:00-04:00    0\n",
       "2024-03-27 00:00:00-04:00    0\n",
       "2024-03-28 00:00:00-04:00    0\n",
       "Length: 100, dtype: int32"
      ]
     },
     "execution_count": 83,
     "metadata": {},
     "output_type": "execute_result"
    }
   ],
   "source": [
    "preds = pd.Series (preds, index=test.index)\n",
    "preds\n",
    "\n",
    "# I'm checking the predictions of model."
   ]
  },
  {
   "cell_type": "code",
   "execution_count": 84,
   "metadata": {},
   "outputs": [
    {
     "data": {
      "text/plain": [
       "0.6111111111111112"
      ]
     },
     "execution_count": 84,
     "metadata": {},
     "output_type": "execute_result"
    }
   ],
   "source": [
    "precision_score(test[\"Target\"],preds)\n",
    "\n",
    "# I must make precision score better."
   ]
  },
  {
   "cell_type": "code",
   "execution_count": 85,
   "metadata": {},
   "outputs": [
    {
     "data": {
      "text/plain": [
       "<Axes: xlabel='Date'>"
      ]
     },
     "execution_count": 85,
     "metadata": {},
     "output_type": "execute_result"
    },
    {
     "data": {
      "image/png": "[encoded data removed]",
      "text/plain": [
       "<Figure size 640x480 with 1 Axes>"
      ]
     },
     "metadata": {},
     "output_type": "display_data"
    }
   ],
   "source": [
    "combined = pd.concat([test[\"Target\"],preds],axis=1)\n",
    "combined.plot()\n",
    "\n",
    "# I'm looking for what's wrong."
   ]
  },
  {
   "cell_type": "code",
   "execution_count": 87,
   "metadata": {},
   "outputs": [],
   "source": [
    "def predict(train, test, predictors, model):\n",
    "    model.fit(train[predictors], train[\"Target\"])\n",
    "    preds = model.predict(test[predictors])\n",
    "    preds = pd.Series(preds, index=test.index, name = \"Predictions\")\n",
    "    combined = pd.concat([test[\"Target\"], preds], axis=1)\n",
    "    return combined"
   ]
  },
  {
   "cell_type": "code",
   "execution_count": 88,
   "metadata": {},
   "outputs": [],
   "source": [
    "def backtest(data, model, predictors, start=2500, step=250):\n",
    "    all_predictions = []\n",
    "\n",
    "    for i in range(start,data.shape[0],step):\n",
    "        train = data.iloc[0:i].copy()\n",
    "        test = data.iloc[i:(i+step)].copy()\n",
    "        predictions = predict(train,test,predictors,model)\n",
    "        all_predictions.append(predictions)\n",
    "    return pd.concat(all_predictions)"
   ]
  },
  {
   "cell_type": "code",
   "execution_count": 89,
   "metadata": {},
   "outputs": [],
   "source": [
    "predictions = backtest(sp500,model,predictors)"
   ]
  },
  {
   "cell_type": "code",
   "execution_count": 90,
   "metadata": {},
   "outputs": [
    {
     "data": {
      "text/plain": [
       "Predictions\n",
       "1    1842\n",
       "0    1756\n",
       "Name: count, dtype: int64"
      ]
     },
     "execution_count": 90,
     "metadata": {},
     "output_type": "execute_result"
    }
   ],
   "source": [
    "predictions[\"Predictions\"].value_counts()"
   ]
  },
  {
   "cell_type": "code",
   "execution_count": 91,
   "metadata": {},
   "outputs": [
    {
     "data": {
      "text/plain": [
       "0.5228013029315961"
      ]
     },
     "execution_count": 91,
     "metadata": {},
     "output_type": "execute_result"
    }
   ],
   "source": [
    "precision_score(predictions[\"Target\"],predictions[\"Predictions\"])"
   ]
  },
  {
   "cell_type": "code",
   "execution_count": 92,
   "metadata": {},
   "outputs": [
    {
     "data": {
      "text/plain": [
       "Predictions\n",
       "1    0.511951\n",
       "0    0.488049\n",
       "Name: count, dtype: float64"
      ]
     },
     "execution_count": 92,
     "metadata": {},
     "output_type": "execute_result"
    }
   ],
   "source": [
    "predictions[\"Predictions\"].value_counts() / predictions.shape[0]"
   ]
  }
 ],
 "metadata": {
  "kernelspec": {
   "display_name": "Python 3",
   "language": "python",
   "name": "python3"
  },
  "language_info": {
   "codemirror_mode": {
    "name": "ipython",
    "version": 3
   },
   "file_extension": ".py",
   "mimetype": "text/x-python",
   "name": "python",
   "nbconvert_exporter": "python",
   "pygments_lexer": "ipython3",
   "version": "3.11.0"
  }
 },
 "nbformat": 4,
 "nbformat_minor": 2
}
